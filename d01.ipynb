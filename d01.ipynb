{
 "cells": [
  {
   "cell_type": "markdown",
   "id": "d2d3de85",
   "metadata": {},
   "source": [
    "--- Day 1: Calorie Counting ---\n",
    "Santa's reindeer typically eat regular reindeer food, but they need a lot of magical energy to deliver presents on Christmas. For that, their favorite snack is a special type of star fruit that only grows deep in the jungle. The Elves have brought you on their annual expedition to the grove where the fruit grows.\n",
    "\n",
    "To supply enough magical energy, the expedition needs to retrieve a minimum of fifty stars by December 25th. Although the Elves assure you that the grove has plenty of fruit, you decide to grab any fruit you see along the way, just in case.\n",
    "\n",
    "Collect stars by solving puzzles. Two puzzles will be made available on each day in the Advent calendar; the second puzzle is unlocked when you complete the first. Each puzzle grants one star. Good luck!\n",
    "\n",
    "The jungle must be too overgrown and difficult to navigate in vehicles or access from the air; the Elves' expedition traditionally goes on foot. As your boats approach land, the Elves begin taking inventory of their supplies. One important consideration is food - in particular, the number of Calories each Elf is carrying (your puzzle input).\n",
    "\n",
    "The Elves take turns writing down the number of Calories contained by the various meals, snacks, rations, etc. that they've brought with them, one item per line. Each Elf separates their own inventory from the previous Elf's inventory (if any) by a blank line.\n",
    "\n",
    "For example, suppose the Elves finish writing their items' Calories and end up with the following list:\n",
    "\n",
    "1000\n",
    "2000\n",
    "3000\n",
    "\n",
    "4000\n",
    "\n",
    "5000\n",
    "6000\n",
    "\n",
    "7000\n",
    "8000\n",
    "9000\n",
    "\n",
    "10000\n",
    "This list represents the Calories of the food carried by five Elves:\n",
    "\n",
    "The first Elf is carrying food with 1000, 2000, and 3000 Calories, a total of 6000 Calories.\n",
    "The second Elf is carrying one food item with 4000 Calories.\n",
    "The third Elf is carrying food with 5000 and 6000 Calories, a total of 11000 Calories.\n",
    "The fourth Elf is carrying food with 7000, 8000, and 9000 Calories, a total of 24000 Calories.\n",
    "The fifth Elf is carrying one food item with 10000 Calories.\n",
    "In case the Elves get hungry and need extra snacks, they need to know which Elf to ask: they'd like to know how many Calories are being carried by the Elf carrying the most Calories. In the example above, this is 24000 (carried by the fourth Elf).\n",
    "\n",
    "Find the Elf carrying the most Calories. How many total Calories is that Elf carrying?"
   ]
  },
  {
   "cell_type": "code",
   "execution_count": 129,
   "id": "d8afa61e",
   "metadata": {},
   "outputs": [],
   "source": [
    "def elf_input(input_file:str)->list:\n",
    "    \"\"\"\n",
    "    Parse input, compile integers to list, break into new list at blank lines\n",
    "    \"\"\"\n",
    "    elves = []\n",
    "    elf_food = []\n",
    "    with open(input_file, 'r') as f:\n",
    "        for line in f:\n",
    "            if line != '\\n':\n",
    "                elf_food.append(int(line))\n",
    "            else:\n",
    "                elves.append(elf_food)\n",
    "                elf_food = []\n",
    "    return elves\n",
    "\n",
    "def max_calories(ration_lists:list)->int:\n",
    "    \"\"\"Return max summed list from list of elf rations\"\"\"\n",
    "    largest = max([sum(elf) for elf in elves_rations])\n",
    "    print(f'The maximum amount of meals are:  {largest}')\n",
    "    return largest\n",
    "    "
   ]
  },
  {
   "cell_type": "code",
   "execution_count": 130,
   "id": "20cc3d96",
   "metadata": {},
   "outputs": [],
   "source": [
    "# List of aggregate elf rations\n",
    "elves_rations = elf_input(r'./data/d01.txt')"
   ]
  },
  {
   "cell_type": "code",
   "execution_count": 131,
   "id": "bac72310",
   "metadata": {
    "scrolled": true
   },
   "outputs": [
    {
     "name": "stdout",
     "output_type": "stream",
     "text": [
      "The maximum amount of meals are:  70613\n"
     ]
    },
    {
     "data": {
      "text/plain": [
       "70613"
      ]
     },
     "execution_count": 131,
     "metadata": {},
     "output_type": "execute_result"
    }
   ],
   "source": [
    "# Maximum rations\n",
    "max_calories(elves_rations)"
   ]
  },
  {
   "cell_type": "markdown",
   "id": "5aea1e76",
   "metadata": {},
   "source": [
    "--- Part Two ---\n",
    "By the time you calculate the answer to the Elves' question, they've already realized that the Elf carrying the most Calories of food might eventually run out of snacks.\n",
    "\n",
    "To avoid this unacceptable situation, the Elves would instead like to know the total Calories carried by the top three Elves carrying the most Calories. That way, even if one of those Elves runs out of snacks, they still have two backups.\n",
    "\n",
    "In the example above, the top three Elves are the fourth Elf (with 24000 Calories), then the third Elf (with 11000 Calories), then the fifth Elf (with 10000 Calories). The sum of the Calories carried by these three elves is 45000.\n",
    "\n",
    "Find the top three Elves carrying the most Calories. How many Calories are those Elves carrying in total?"
   ]
  },
  {
   "cell_type": "code",
   "execution_count": 132,
   "id": "caa58fc1",
   "metadata": {},
   "outputs": [],
   "source": [
    "def top_three(ration_lists:list)->int:\n",
    "    \"\"\"Return three highest lists of elf rations\"\"\"\n",
    "    summed_lists = [sum(elf) for elf in elves_rations]\n",
    "    summed_lists.sort(reverse=True)\n",
    "    top_three_summed = sum(summed_lists[:3])\n",
    "    print(f'The combined calories for top 3 elves are:  {top_three_summed}')\n",
    "    return top_three_summed"
   ]
  },
  {
   "cell_type": "code",
   "execution_count": 133,
   "id": "34c05995",
   "metadata": {},
   "outputs": [
    {
     "name": "stdout",
     "output_type": "stream",
     "text": [
      "The combined calories for top 3 elves are:  205805\n"
     ]
    },
    {
     "data": {
      "text/plain": [
       "205805"
      ]
     },
     "execution_count": 133,
     "metadata": {},
     "output_type": "execute_result"
    }
   ],
   "source": [
    "top_three(elves_rations)"
   ]
  },
  {
   "cell_type": "code",
   "execution_count": null,
   "id": "953b18b9",
   "metadata": {},
   "outputs": [],
   "source": []
  }
 ],
 "metadata": {
  "kernelspec": {
   "display_name": "Python 3 (ipykernel)",
   "language": "python",
   "name": "python3"
  },
  "language_info": {
   "codemirror_mode": {
    "name": "ipython",
    "version": 3
   },
   "file_extension": ".py",
   "mimetype": "text/x-python",
   "name": "python",
   "nbconvert_exporter": "python",
   "pygments_lexer": "ipython3",
   "version": "3.9.13"
  }
 },
 "nbformat": 4,
 "nbformat_minor": 5
}
