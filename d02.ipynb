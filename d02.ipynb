{
 "cells": [
  {
   "cell_type": "markdown",
   "id": "ffc8fd56",
   "metadata": {},
   "source": [
    "### --- Day 2: Rock Paper Scissors ---\n",
    "The Elves begin to set up camp on the beach. To decide whose tent gets to be closest to the snack storage, a giant Rock Paper Scissors tournament is already in progress.\n",
    "\n",
    "Rock Paper Scissors is a game between two players. Each game contains many rounds; in each round, the players each simultaneously choose one of Rock, Paper, or Scissors using a hand shape. Then, a winner for that round is selected: Rock defeats Scissors, Scissors defeats Paper, and Paper defeats Rock. If both players choose the same shape, the round instead ends in a draw.\n",
    "\n",
    "Appreciative of your help yesterday, one Elf gives you an encrypted strategy guide (your puzzle input) that they say will be sure to help you win. \"The first column is what your opponent is going to play: A for Rock, B for Paper, and C for Scissors. The second column--\" Suddenly, the Elf is called away to help with someone's tent.\n",
    "\n",
    "The second column, you reason, must be what you should play in response: X for Rock, Y for Paper, and Z for Scissors. Winning every time would be suspicious, so the responses must have been carefully chosen.\n",
    "\n",
    "The winner of the whole tournament is the player with the highest score. Your total score is the sum of your scores for each round. The score for a single round is the score for the shape you selected (1 for Rock, 2 for Paper, and 3 for Scissors) plus the score for the outcome of the round (0 if you lost, 3 if the round was a draw, and 6 if you won).\n",
    "\n",
    "Since you can't be sure if the Elf is trying to help you or trick you, you should calculate the score you would get if you were to follow the strategy guide.\n",
    "\n",
    "For example, suppose you were given the following strategy guide:\n",
    "\n",
    "A Y\\\n",
    "B X\\\n",
    "C Z\\\n",
    "This strategy guide predicts and recommends the following:\n",
    "\n",
    "In the first round, your opponent will choose Rock (A), and you should choose Paper (Y). This ends in a win for you with a score of 8 (2 because you chose Paper + 6 because you won).\n",
    "In the second round, your opponent will choose Paper (B), and you should choose Rock (X). This ends in a loss for you with a score of 1 (1 + 0).\n",
    "The third round is a draw with both players choosing Scissors, giving you a score of 3 + 3 = 6.\n",
    "In this example, if you were to follow the strategy guide, you would get a total score of 15 (8 + 1 + 6).\n",
    "\n",
    "What would your total score be if everything goes exactly according to your strategy guide?"
   ]
  },
  {
   "cell_type": "code",
   "execution_count": 208,
   "id": "1219b70b",
   "metadata": {},
   "outputs": [],
   "source": [
    "def parse_input(file:str)->list:\n",
    "    game = []\n",
    "    with open(file) as f:\n",
    "        for line in f:\n",
    "            game_round = (line.strip().split(' '))\n",
    "            game.append(game_round)\n",
    "    return game\n",
    "\n",
    "\n",
    "def shape_scoring(shape):\n",
    "    shape_score = {'X':1, 'Y':2, 'Z':3}\n",
    "    return shape_score.get(shape)\n",
    "\n",
    "def win_scoring(game_rnd:list)->int:\n",
    "    \"\"\"\n",
    "    Calculate score based on win/lose conds.  \n",
    "    Converts opponent symbol to yours for ease of rules\n",
    "    \"\"\"\n",
    "    # convert opponent to same symbol\n",
    "    convert_you = {'X':'A', 'Y':'B', 'Z':'C'}\n",
    "    rnd = [game_rnd[0], convert_you.get(game_rnd[1])]\n",
    "   # draw\n",
    "    if rnd[0]==rnd[1]:\n",
    "        return 3\n",
    "    # win\n",
    "    elif rnd[0]=='A' and rnd[1]=='B' or\\\n",
    "         rnd[0]=='B' and rnd[1]=='C' or\\\n",
    "         rnd[0]=='C' and rnd[1]=='A':\n",
    "        return 6\n",
    "    # lose\n",
    "    else:\n",
    "        return 0\n",
    "        \n",
    "def game_score(game):\n",
    "    \"\"\"Calculate total score from all round\"\"\"\n",
    "    score = 0\n",
    "    for rnd in game:\n",
    "        score += shape_scoring(rnd[1])\n",
    "        score += win_scoring(rnd)\n",
    "    return score"
   ]
  },
  {
   "cell_type": "code",
   "execution_count": 209,
   "id": "0056e7f3",
   "metadata": {},
   "outputs": [],
   "source": [
    "# Input\n",
    "game = parse_input(r'./data/d02.txt')"
   ]
  },
  {
   "cell_type": "code",
   "execution_count": 210,
   "id": "74176a84",
   "metadata": {},
   "outputs": [
    {
     "data": {
      "text/plain": [
       "11841"
      ]
     },
     "execution_count": 210,
     "metadata": {},
     "output_type": "execute_result"
    }
   ],
   "source": [
    "# The total score of the game\n",
    "game_score(game)"
   ]
  },
  {
   "cell_type": "markdown",
   "id": "495148a1",
   "metadata": {},
   "source": [
    "### --- Part Two ---\n",
    "The Elf finishes helping with the tent and sneaks back over to you. \"Anyway, the second column says how the round needs to end: X means you need to lose, Y means you need to end the round in a draw, and Z means you need to win. Good luck!\"\n",
    "\n",
    "The total score is still calculated in the same way, but now you need to figure out what shape to choose so the round ends as indicated. The example above now goes like this:\n",
    "\n",
    "In the first round, your opponent will choose Rock (A), and you need the round to end in a draw (Y), so you also choose Rock. This gives you a score of 1 + 3 = 4.\n",
    "In the second round, your opponent will choose Paper (B), and you choose Rock so you lose (X) with a score of 1 + 0 = 1.\n",
    "In the third round, you will defeat your opponent's Scissors with Rock for a score of 1 + 6 = 7.\n",
    "Now that you're correctly decrypting the ultra top secret strategy guide, you would get a total score of 12.\n",
    "\n",
    "Following the Elf's instructions for the second column, what would your total score be if everything goes exactly according to your strategy guide?"
   ]
  },
  {
   "cell_type": "code",
   "execution_count": 211,
   "id": "2a9265e5",
   "metadata": {},
   "outputs": [],
   "source": [
    "## Part 2.\n",
    "\n",
    "# Looked into using modulus to progress circular/wraparound index.  Converted letters to ints to do so.\n",
    "\n",
    "\n",
    "def shapes_to_ints(rnd:list)->list:\n",
    "    \"\"\"Converts lists of A-B X-Y to 1-3\"\"\"\n",
    "    shape_int_dict = {'A':1, 'B':2, 'C':3, 'X':1, 'Y':2, 'Z':3}\n",
    "    return [shape_int_dict.get(x) for x in rnd]\n",
    "\n",
    "def rockpaperscissors_idx(idx, direction_up=True):\n",
    "    \"\"\"\n",
    "    Uses modulus to create circular link.  \n",
    "    Note that the idex does not start at 0, so edited within moduls and outside to correct\n",
    "    \"\"\"\n",
    "    if idx > 3 or idx < 1:\n",
    "        raise ValueError('Index out of range.  Must be 1-3')\n",
    "    if direction_up == True:\n",
    "        return ((idx-1) + 1) % (3) + 1\n",
    "    elif direction_up == False:\n",
    "        return ((idx-1) - 1) % (3) + 1\n",
    "\n",
    "def new_score(game):\n",
    "    \"\"\"\n",
    "    Calculate final game score.  Convert shapes to ints, correlates to scores.\n",
    "    \"\"\"\n",
    "    game_score = 0\n",
    "    for rnd in game:\n",
    "        rnd = shapes_to_ints(rnd)\n",
    "        # win\n",
    "        if rnd[1] == 3:\n",
    "            win_score = 6\n",
    "            shape_score = rockpaperscissors_idx(rnd[0])\n",
    "        # draw\n",
    "        elif rnd[1] == 2:\n",
    "            win_score = 3\n",
    "            shape_score = rnd[0]\n",
    "        # lose\n",
    "        elif rnd[1] == 1:\n",
    "            win_score = 0\n",
    "            shape_score = rockpaperscissors_idx(rnd[0], direction_up=False)\n",
    "        \n",
    "        game_score += win_score + shape_score\n",
    "    \n",
    "    print(f'The final score for the game is {game_score}')\n",
    "    return game_score        "
   ]
  },
  {
   "cell_type": "code",
   "execution_count": 212,
   "id": "c20f878f",
   "metadata": {},
   "outputs": [
    {
     "name": "stdout",
     "output_type": "stream",
     "text": [
      "The final score for the game is 13022\n"
     ]
    },
    {
     "data": {
      "text/plain": [
       "13022"
      ]
     },
     "execution_count": 212,
     "metadata": {},
     "output_type": "execute_result"
    }
   ],
   "source": [
    " new_score(game)"
   ]
  }
 ],
 "metadata": {
  "kernelspec": {
   "display_name": "Python 3 (ipykernel)",
   "language": "python",
   "name": "python3"
  },
  "language_info": {
   "codemirror_mode": {
    "name": "ipython",
    "version": 3
   },
   "file_extension": ".py",
   "mimetype": "text/x-python",
   "name": "python",
   "nbconvert_exporter": "python",
   "pygments_lexer": "ipython3",
   "version": "3.9.13"
  }
 },
 "nbformat": 4,
 "nbformat_minor": 5
}
